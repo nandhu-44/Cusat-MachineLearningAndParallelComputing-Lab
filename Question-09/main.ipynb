{
 "cells": [
  {
   "cell_type": "code",
   "execution_count": 1,
   "metadata": {},
   "outputs": [],
   "source": [
    "import numpy as np\n",
    "import pandas as pd\n",
    "from sklearn.datasets import load_iris\n",
    "from sklearn.decomposition import PCA, TruncatedSVD\n",
    "from sklearn.discriminant_analysis import LinearDiscriminantAnalysis as LDA\n",
    "from sklearn.manifold import TSNE\n",
    "from sklearn.model_selection import cross_val_score, StratifiedKFold\n",
    "from sklearn.ensemble import RandomForestClassifier\n",
    "from sklearn.preprocessing import StandardScaler\n",
    "\n",
    "iris = load_iris()\n",
    "X = iris.data\n",
    "y = iris.target\n"
   ]
  },
  {
   "cell_type": "code",
   "execution_count": 2,
   "metadata": {},
   "outputs": [],
   "source": [
    "scaler = StandardScaler()\n",
    "X_scaled = scaler.fit_transform(X)"
   ]
  },
  {
   "cell_type": "code",
   "execution_count": 3,
   "metadata": {},
   "outputs": [],
   "source": [
    "def apply_lda(X, y, n_components):\n",
    "    max_components = min(X.shape[1], len(np.unique(y)) - 1)\n",
    "    if n_components > max_components:\n",
    "        raise ValueError(f\"LDA cannot have n_components > {max_components}.\")\n",
    "    lda = LDA(n_components=n_components)\n",
    "    return lda.fit_transform(X, y)\n",
    "\n",
    "\n",
    "def apply_pca(X, n_components):\n",
    "    pca = PCA(n_components=n_components)\n",
    "    return pca.fit_transform(X)\n",
    "\n",
    "def apply_svd(X, n_components):\n",
    "    svd = TruncatedSVD(n_components=n_components)\n",
    "    return svd.fit_transform(X)\n",
    "\n",
    "def apply_tsne(X, n_components):\n",
    "    tsne = TSNE(n_components=n_components, random_state=42)\n",
    "    return tsne.fit_transform(X)\n",
    "\n"
   ]
  },
  {
   "cell_type": "code",
   "execution_count": 4,
   "metadata": {},
   "outputs": [],
   "source": [
    "def perform_cross_validation(X_transformed, y):\n",
    "    clf = RandomForestClassifier(random_state=42)\n",
    "    cv = StratifiedKFold(n_splits=5, shuffle=True, random_state=42)\n",
    "    scores = cross_val_score(clf, X_transformed, y, cv=cv, scoring='accuracy')\n",
    "    return np.mean(scores), np.std(scores)\n"
   ]
  },
  {
   "cell_type": "code",
   "execution_count": 5,
   "metadata": {},
   "outputs": [
    {
     "name": "stdout",
     "output_type": "stream",
     "text": [
      "Case 1: Reduction to 2 features\n",
      "LDA: Mean Accuracy = 0.9733, Std = 0.0389\n",
      "PCA: Mean Accuracy = 0.8800, Std = 0.0859\n",
      "SVD: Mean Accuracy = 0.8800, Std = 0.0859\n",
      "TSNE: Mean Accuracy = 0.9200, Std = 0.0806\n",
      "\n",
      "Case 2: Reduction to 3 features\n",
      "LDA: Skipping (n_components > max allowed)\n",
      "PCA: Mean Accuracy = 0.9333, Std = 0.0699\n",
      "SVD: Mean Accuracy = 0.9333, Std = 0.0699\n",
      "TSNE: Mean Accuracy = 0.9333, Std = 0.0471\n"
     ]
    }
   ],
   "source": [
    "# Case 1: 2 features\n",
    "print(\"Case 1: Reduction to 2 features\")\n",
    "for method, func in [(\"LDA\", apply_lda), (\"PCA\", apply_pca), (\"SVD\", apply_svd), (\"TSNE\", apply_tsne)]:\n",
    "    if method == \"LDA\" and 2 > min(X.shape[1], len(np.unique(y)) - 1):\n",
    "        print(f\"{method}: Skipping (n_components > max allowed)\")\n",
    "        continue\n",
    "    X_transformed = func(X_scaled, n_components=2) if method != \"LDA\" else func(X, y, n_components=2)\n",
    "    mean_acc, std_acc = perform_cross_validation(X_transformed, y)\n",
    "    print(f\"{method}: Mean Accuracy = {mean_acc:.4f}, Std = {std_acc:.4f}\")\n",
    "\n",
    "# Case 2: 3 features\n",
    "print(\"\\nCase 2: Reduction to 3 features\")\n",
    "for method, func in [(\"LDA\", apply_lda), (\"PCA\", apply_pca), (\"SVD\", apply_svd), (\"TSNE\", apply_tsne)]:\n",
    "    if method == \"LDA\" and 3 > min(X.shape[1], len(np.unique(y)) - 1):\n",
    "        print(f\"{method}: Skipping (n_components > max allowed)\")\n",
    "        continue\n",
    "    X_transformed = func(X_scaled, n_components=3) if method != \"LDA\" else func(X, y, n_components=3)\n",
    "    mean_acc, std_acc = perform_cross_validation(X_transformed, y)\n",
    "    print(f\"{method}: Mean Accuracy = {mean_acc:.4f}, Std = {std_acc:.4f}\")\n"
   ]
  }
 ],
 "metadata": {
  "kernelspec": {
   "display_name": ".venv",
   "language": "python",
   "name": "python3"
  },
  "language_info": {
   "codemirror_mode": {
    "name": "ipython",
    "version": 3
   },
   "file_extension": ".py",
   "mimetype": "text/x-python",
   "name": "python",
   "nbconvert_exporter": "python",
   "pygments_lexer": "ipython3",
   "version": "3.12.0"
  }
 },
 "nbformat": 4,
 "nbformat_minor": 2
}
