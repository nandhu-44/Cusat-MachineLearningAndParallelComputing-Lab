{
 "cells": [
  {
   "cell_type": "markdown",
   "id": "1e8024bf",
   "metadata": {},
   "source": [
    "# Question 6: Movie Recommendation System"
   ]
  },
  {
   "cell_type": "code",
   "execution_count": 3,
   "id": "10c61d0b",
   "metadata": {},
   "outputs": [
    {
     "name": "stdout",
     "output_type": "stream",
     "text": [
      "   userId  movieId  rating\n",
      "0       1       31     2.5\n",
      "1       1     1029     3.0\n",
      "2       1     1061     3.0\n",
      "3       1     1129     2.0\n",
      "4       1     1172     4.0\n",
      "SHAPE : (100004, 3)\n",
      "DESCRIPTION : \n",
      "              userId        movieId         rating\n",
      "count  100004.000000  100004.000000  100004.000000\n",
      "mean      347.011310   12548.664363       3.543608\n",
      "std       195.163838   26369.198969       1.058064\n",
      "min         1.000000       1.000000       0.500000\n",
      "25%       182.000000    1028.000000       3.000000\n",
      "50%       367.000000    2406.500000       4.000000\n",
      "75%       520.000000    5418.000000       4.000000\n",
      "max       671.000000  163949.000000       5.000000\n",
      "<class 'pandas.core.frame.DataFrame'>\n",
      "RangeIndex: 100004 entries, 0 to 100003\n",
      "Data columns (total 3 columns):\n",
      " #   Column   Non-Null Count   Dtype  \n",
      "---  ------   --------------   -----  \n",
      " 0   userId   100004 non-null  int64  \n",
      " 1   movieId  100004 non-null  int64  \n",
      " 2   rating   100004 non-null  float64\n",
      "dtypes: float64(1), int64(2)\n",
      "memory usage: 2.3 MB\n",
      "INFO : \n",
      "None\n",
      "Total Unique Movies : 9066\n",
      "Total Unique Users : 671\n"
     ]
    }
   ],
   "source": [
    "import pandas as pd\n",
    "import numpy as np\n",
    "\n",
    "movie_data_path = '../data//MovieData/ratings_small.csv'\n",
    "movie_data = pd.read_csv(movie_data_path)\n",
    "movie_data.drop('timestamp', axis=1, inplace=True)\n",
    "unique_movies = movie_data['movieId'].unique()\n",
    "uniique_users = movie_data['userId'].unique()\n",
    "\n",
    "print(movie_data.head())\n",
    "print(f'SHAPE : {movie_data.shape}')\n",
    "print(f'DESCRIPTION : \\n{movie_data.describe()}')\n",
    "print(f'INFO : \\n{movie_data.info()}')\n",
    "print(f'Total Unique Movies : {len(unique_movies)}')\n",
    "print(f'Total Unique Users : {len(uniique_users)}')"
   ]
  },
  {
   "cell_type": "code",
   "execution_count": 4,
   "id": "57ba15a7",
   "metadata": {},
   "outputs": [
    {
     "name": "stdout",
     "output_type": "stream",
     "text": [
      "   userId  movieId  rating\n",
      "0       1       31     2.5\n",
      "1       1     1029     3.0\n",
      "2       1     1061     3.0\n",
      "3       1     1129     2.0\n",
      "4       1     1172     4.0\n",
      "SHAPE : (62397, 3)\n"
     ]
    }
   ],
   "source": [
    "active_users = movie_data['userId'].value_counts().head(1000).index\n",
    "popular_movies = movie_data['movieId'].value_counts().head(1000).index\n",
    "\n",
    "subset_data = movie_data[movie_data['userId'].isin(active_users) & movie_data['movieId'].isin(popular_movies)]\n",
    "print(subset_data.head())\n",
    "print(f'SHAPE : {subset_data.shape}')"
   ]
  },
  {
   "cell_type": "code",
   "execution_count": 5,
   "id": "545b00d2",
   "metadata": {},
   "outputs": [
    {
     "name": "stdout",
     "output_type": "stream",
     "text": [
      "movieId  1       2       3       5       6       7       10      11      \\\n",
      "userId                                                                    \n",
      "1           0.0     0.0     0.0     0.0     0.0     0.0     0.0     0.0   \n",
      "2           0.0     0.0     0.0     0.0     0.0     0.0     4.0     0.0   \n",
      "3           0.0     0.0     0.0     0.0     0.0     0.0     0.0     0.0   \n",
      "4           0.0     0.0     0.0     0.0     0.0     0.0     4.0     0.0   \n",
      "5           0.0     0.0     4.0     0.0     0.0     0.0     0.0     0.0   \n",
      "\n",
      "movieId  14      16      ...  106920  109374  109487  111759  112552  112852  \\\n",
      "userId                   ...                                                   \n",
      "1           0.0     0.0  ...     0.0     0.0     0.0     0.0     0.0     0.0   \n",
      "2           0.0     0.0  ...     0.0     0.0     0.0     0.0     0.0     0.0   \n",
      "3           0.0     0.0  ...     0.0     0.0     0.0     0.0     0.0     0.0   \n",
      "4           0.0     0.0  ...     0.0     0.0     0.0     0.0     0.0     0.0   \n",
      "5           0.0     0.0  ...     0.0     0.0     0.0     0.0     0.0     0.0   \n",
      "\n",
      "movieId  115713  116797  122882  122886  \n",
      "userId                                   \n",
      "1           0.0     0.0     0.0     0.0  \n",
      "2           0.0     0.0     0.0     0.0  \n",
      "3           0.0     0.0     0.0     0.0  \n",
      "4           0.0     0.0     0.0     0.0  \n",
      "5           0.0     0.0     0.0     0.0  \n",
      "\n",
      "[5 rows x 1000 columns]\n"
     ]
    }
   ],
   "source": [
    "user_movie_matrix = subset_data.pivot_table(index='userId', columns='movieId', values='rating')\n",
    "user_movie_matrix.fillna(0, inplace=True)\n",
    "print(user_movie_matrix.head())"
   ]
  },
  {
   "cell_type": "code",
   "execution_count": 6,
   "id": "791b6e2f",
   "metadata": {},
   "outputs": [
    {
     "name": "stdout",
     "output_type": "stream",
     "text": [
      "userId       1         2         3         4         5         6         7    \\\n",
      "userId                                                                         \n",
      "1       0.000000  0.000000  0.000000  0.085142  0.016905  0.000000  0.085997   \n",
      "2       0.000000  0.000000  0.146985  0.143051  0.109724  0.000000  0.229968   \n",
      "3       0.000000  0.146985  0.000000  0.104785  0.171020  0.069457  0.178091   \n",
      "4       0.085142  0.143051  0.104785  0.000000  0.150117  0.092800  0.368138   \n",
      "5       0.016905  0.109724  0.171020  0.150117  0.000000  0.065360  0.098811   \n",
      "\n",
      "userId       8         9         10   ...       662       663       664  \\\n",
      "userId                                ...                                 \n",
      "1       0.000000  0.013781  0.000000  ...  0.000000  0.000000  0.018491   \n",
      "2       0.123408  0.128084  0.056379  ...  0.511752  0.122564  0.104607   \n",
      "3       0.277715  0.162022  0.126357  ...  0.184262  0.132724  0.252653   \n",
      "4       0.226033  0.037311  0.194262  ...  0.133033  0.099404  0.195253   \n",
      "5       0.172430  0.093425  0.040307  ...  0.195473  0.039130  0.187707   \n",
      "\n",
      "userId       665       666       667       668       669       670       671  \n",
      "userId                                                                        \n",
      "1       0.052106  0.000000  0.000000  0.000000  0.071125  0.000000  0.018190  \n",
      "2       0.201011  0.491088  0.487599  0.092142  0.028741  0.191468  0.124142  \n",
      "3       0.207585  0.198848  0.152190  0.144960  0.078538  0.163454  0.199023  \n",
      "4       0.326230  0.139351  0.110375  0.080911  0.126127  0.066404  0.243173  \n",
      "5       0.268646  0.140443  0.063714  0.044596  0.043586  0.067100  0.235636  \n",
      "\n",
      "[5 rows x 671 columns]\n"
     ]
    }
   ],
   "source": [
    "from sklearn.metrics.pairwise import cosine_similarity\n",
    "import numpy as np\n",
    "\n",
    "user_similarity_matrix = cosine_similarity(user_movie_matrix)\n",
    "np.fill_diagonal(user_similarity_matrix, 0)\n",
    "user_similarity_df = pd.DataFrame(user_similarity_matrix, index=user_movie_matrix.index, columns=user_movie_matrix.index)\n",
    "print(user_similarity_df.head())"
   ]
  },
  {
   "cell_type": "code",
   "execution_count": 7,
   "id": "ab451cb1",
   "metadata": {},
   "outputs": [
    {
     "name": "stdout",
     "output_type": "stream",
     "text": [
      "671\n",
      "170\n"
     ]
    }
   ],
   "source": [
    "print(user_similarity_df.index.max())\n",
    "\n",
    "random_user = np.random.choice(user_movie_matrix.index)\n",
    "print(random_user)"
   ]
  },
  {
   "cell_type": "code",
   "execution_count": 8,
   "id": "286f38ba",
   "metadata": {},
   "outputs": [],
   "source": [
    "def get_top_similar_users(userId, user_similarity_df, threshold = 0, n =10):\n",
    "    user_similarity_scores = user_similarity_df.iloc[userId, :]\n",
    "    if threshold > 0:\n",
    "        similar_users = user_similarity_scores[user_similarity_scores > threshold].sort_values(ascending=False). head(n)\n",
    "    else:\n",
    "        similar_users = user_similarity_scores.sort_values(ascending=False).head(n)\n",
    "    return similar_users"
   ]
  },
  {
   "cell_type": "code",
   "execution_count": 9,
   "id": "a60decb2",
   "metadata": {},
   "outputs": [
    {
     "name": "stdout",
     "output_type": "stream",
     "text": [
      "userId\n",
      "476    0.368285\n",
      "467    0.357991\n",
      "190    0.351228\n",
      "644    0.347794\n",
      "626    0.293841\n",
      "647    0.276544\n",
      "457    0.274282\n",
      "669    0.273889\n",
      "608    0.266694\n",
      "95     0.261030\n",
      "Name: 171, dtype: float64\n"
     ]
    },
    {
     "data": {
      "text/plain": [
       "[476, 467, 190, 644, 626, 647, 457, 669, 608, 95]"
      ]
     },
     "execution_count": 9,
     "metadata": {},
     "output_type": "execute_result"
    }
   ],
   "source": [
    "similar_users = get_top_similar_users(random_user, user_similarity_df, threshold=0, n=10)\n",
    "print(similar_users)\n",
    "similar_users.index.to_list()"
   ]
  },
  {
   "cell_type": "code",
   "execution_count": 10,
   "id": "a345949d",
   "metadata": {},
   "outputs": [
    {
     "name": "stdout",
     "output_type": "stream",
     "text": [
      "       userId  movieId  rating\n",
      "14511      95        6     5.0\n",
      "14512      95        9     3.0\n",
      "14513      95       11     4.0\n",
      "14514      95       16     5.0\n",
      "14515      95       19     4.0\n"
     ]
    }
   ],
   "source": [
    "similar_user_ratings = movie_data[movie_data['userId'].isin(similar_users.index.to_list())]\n",
    "print(similar_user_ratings.head())"
   ]
  },
  {
   "cell_type": "code",
   "execution_count": 11,
   "id": "4e07e53c",
   "metadata": {},
   "outputs": [],
   "source": [
    "# Candidate scoring: \n",
    "# Add up ratings for each item, weighted by user similarity\n",
    "from collections import defaultdict\n",
    "scores=defaultdict(float)\n",
    "for index, similar_user_rating in similar_user_ratings.iterrows():\n",
    "    movie_id = similar_user_rating['movieId']\n",
    "    user_rating = similar_user_rating['rating']\n",
    "    user_id = similar_user_rating['userId']\n",
    "    user_similarity_score = similar_users[int(user_id)]\n",
    "    scores[int(movie_id)] += (user_rating / 5.0) * user_similarity_score"
   ]
  },
  {
   "cell_type": "code",
   "execution_count": 12,
   "id": "9e595814",
   "metadata": {},
   "outputs": [
    {
     "data": {
      "text/html": [
       "<div>\n",
       "<style scoped>\n",
       "    .dataframe tbody tr th:only-of-type {\n",
       "        vertical-align: middle;\n",
       "    }\n",
       "\n",
       "    .dataframe tbody tr th {\n",
       "        vertical-align: top;\n",
       "    }\n",
       "\n",
       "    .dataframe thead th {\n",
       "        text-align: right;\n",
       "    }\n",
       "</style>\n",
       "<table border=\"1\" class=\"dataframe\">\n",
       "  <thead>\n",
       "    <tr style=\"text-align: right;\">\n",
       "      <th></th>\n",
       "      <th>userId</th>\n",
       "      <th>movieId</th>\n",
       "      <th>rating</th>\n",
       "    </tr>\n",
       "  </thead>\n",
       "  <tbody>\n",
       "    <tr>\n",
       "      <th>23987</th>\n",
       "      <td>170</td>\n",
       "      <td>1805</td>\n",
       "      <td>4.5</td>\n",
       "    </tr>\n",
       "    <tr>\n",
       "      <th>23984</th>\n",
       "      <td>170</td>\n",
       "      <td>1373</td>\n",
       "      <td>4.0</td>\n",
       "    </tr>\n",
       "    <tr>\n",
       "      <th>23983</th>\n",
       "      <td>170</td>\n",
       "      <td>1299</td>\n",
       "      <td>3.5</td>\n",
       "    </tr>\n",
       "    <tr>\n",
       "      <th>23980</th>\n",
       "      <td>170</td>\n",
       "      <td>1240</td>\n",
       "      <td>3.0</td>\n",
       "    </tr>\n",
       "    <tr>\n",
       "      <th>23999</th>\n",
       "      <td>170</td>\n",
       "      <td>3703</td>\n",
       "      <td>3.0</td>\n",
       "    </tr>\n",
       "    <tr>\n",
       "      <th>23982</th>\n",
       "      <td>170</td>\n",
       "      <td>1272</td>\n",
       "      <td>3.0</td>\n",
       "    </tr>\n",
       "    <tr>\n",
       "      <th>23989</th>\n",
       "      <td>170</td>\n",
       "      <td>2020</td>\n",
       "      <td>3.0</td>\n",
       "    </tr>\n",
       "    <tr>\n",
       "      <th>23991</th>\n",
       "      <td>170</td>\n",
       "      <td>2144</td>\n",
       "      <td>3.0</td>\n",
       "    </tr>\n",
       "    <tr>\n",
       "      <th>23986</th>\n",
       "      <td>170</td>\n",
       "      <td>1682</td>\n",
       "      <td>3.0</td>\n",
       "    </tr>\n",
       "    <tr>\n",
       "      <th>23998</th>\n",
       "      <td>170</td>\n",
       "      <td>3702</td>\n",
       "      <td>3.0</td>\n",
       "    </tr>\n",
       "  </tbody>\n",
       "</table>\n",
       "</div>"
      ],
      "text/plain": [
       "       userId  movieId  rating\n",
       "23987     170     1805     4.5\n",
       "23984     170     1373     4.0\n",
       "23983     170     1299     3.5\n",
       "23980     170     1240     3.0\n",
       "23999     170     3703     3.0\n",
       "23982     170     1272     3.0\n",
       "23989     170     2020     3.0\n",
       "23991     170     2144     3.0\n",
       "23986     170     1682     3.0\n",
       "23998     170     3702     3.0"
      ]
     },
     "execution_count": 12,
     "metadata": {},
     "output_type": "execute_result"
    }
   ],
   "source": [
    "movie_data.loc[movie_data['userId'] == random_user].sort_values(by='rating', ascending=False).head(10)"
   ]
  },
  {
   "cell_type": "code",
   "execution_count": 13,
   "id": "a3affc60",
   "metadata": {},
   "outputs": [],
   "source": [
    "watched = {}\n",
    "for index, row in movie_data.loc[movie_data['userId'] == random_user].iterrows():\n",
    "    watched[row['movieId']] = row['rating']"
   ]
  },
  {
   "cell_type": "code",
   "execution_count": 14,
   "id": "e53b4f79",
   "metadata": {},
   "outputs": [
    {
     "name": "stdout",
     "output_type": "stream",
     "text": [
      "Movie : 2858 , Score : 2.522261375063027\n",
      "Movie : 2762 , Score : 2.2980588905835555\n",
      "Movie : 2395 , Score : 2.185399007704273\n",
      "Movie : 2396 , Score : 2.101008084421222\n",
      "Movie : 2599 , Score : 2.0422973625828766\n",
      "Movie : 2580 , Score : 2.0004255568880063\n",
      "Movie : 2716 , Score : 1.7272531441502688\n",
      "Movie : 2997 , Score : 1.7270988396799996\n",
      "Movie : 2712 , Score : 1.7014712955050242\n",
      "Movie : 2959 , Score : 1.6243966211861844\n"
     ]
    }
   ],
   "source": [
    "from operator import itemgetter\n",
    "\n",
    "recommendations = {}\n",
    "pos = 0\n",
    "\n",
    "for movie, score in sorted(scores.items(), key=itemgetter(1), reverse=True):\n",
    "    if movie not in watched:\n",
    "        recommendations[movie] = score\n",
    "        pos += 1\n",
    "    if pos >= 10:\n",
    "        break\n",
    "\n",
    "for recommendation, score in recommendations.items():\n",
    "    print(f\"Movie : {recommendation} , Score : {score}\")"
   ]
  },
  {
   "cell_type": "code",
   "execution_count": null,
   "id": "1eafba8e",
   "metadata": {},
   "outputs": [
    {
     "name": "stdout",
     "output_type": "stream",
     "text": [
      "Precision: 0.0811\n",
      "Recall: 0.0481\n",
      "F1-score: 0.0492\n"
     ]
    }
   ],
   "source": [
    "import pandas as pd\n",
    "from sklearn.model_selection import train_test_split\n",
    "from sklearn.metrics import precision_score, recall_score, f1_score\n",
    "\n",
    "# Load the data\n",
    "data_path = \"../data/MovieData/ratings_small.csv\"\n",
    "movie_data = pd.read_csv(data_path)\n",
    "\n",
    "# Drop the timestamp column\n",
    "movie_data.drop(\"timestamp\", axis=1, inplace=True)\n",
    "\n",
    "# Split the data into training and test sets\n",
    "train_data, test_data = train_test_split(movie_data, test_size=0.2, random_state=42)\n",
    "\n",
    "# Create a user-item matrix for training\n",
    "train_user_item_matrix = train_data.pivot(index=\"userId\", columns=\"movieId\", values=\"rating\").fillna(0)\n",
    "\n",
    "# Calculate user similarity using cosine similarity\n",
    "from sklearn.metrics.pairwise import cosine_similarity\n",
    "user_similarity_matrix = cosine_similarity(train_user_item_matrix)\n",
    "user_similarity_df = pd.DataFrame(user_similarity_matrix, index=train_user_item_matrix.index, columns=train_user_item_matrix.index)\n",
    "\n",
    "# Generate recommendations for users in the test set\n",
    "def recommend_movies(user_id, user_similarity_df, train_user_item_matrix, top_n=10):\n",
    "    if user_id not in user_similarity_df.index:\n",
    "        return []  # No recommendations for users not in the training set\n",
    "    similar_users = user_similarity_df.loc[user_id].sort_values(ascending=False).index\n",
    "    scores = train_user_item_matrix.loc[similar_users].sum(axis=0)\n",
    "    scores = scores.sort_values(ascending=False)\n",
    "    recommended_movies = scores.index[:top_n]\n",
    "    return recommended_movies\n",
    "\n",
    "# Evaluate the recommendations\n",
    "precision_list = []\n",
    "recall_list = []\n",
    "f1_list = []\n",
    "\n",
    "for user_id in test_data[\"userId\"].unique():\n",
    "    # Ground truth: Movies the user interacted with in the test set\n",
    "    ground_truth = test_data[test_data[\"userId\"] == user_id][\"movieId\"].tolist()\n",
    "    \n",
    "    # Predicted: Top-N recommended movies\n",
    "    if user_id in train_user_item_matrix.index:\n",
    "        recommendations = recommend_movies(user_id, user_similarity_df, train_user_item_matrix, top_n=10)\n",
    "    else:\n",
    "        recommendations = []  # No recommendations for users not in the training set\n",
    "\n",
    "    # Calculate precision, recall, and F1-score for this user\n",
    "    if len(ground_truth) > 0:  # Avoid division by zero\n",
    "        true_positives = len(set(recommendations) & set(ground_truth))\n",
    "        precision = true_positives / len(recommendations) if len(recommendations) > 0 else 0\n",
    "        recall = true_positives / len(ground_truth)\n",
    "        f1 = (2 * precision * recall / (precision + recall)) if (precision + recall) > 0 else 0\n",
    "\n",
    "        precision_list.append(precision)\n",
    "        recall_list.append(recall)\n",
    "        f1_list.append(f1)\n",
    "\n",
    "# Calculate average metrics across all users\n",
    "average_precision = np.mean(precision_list)\n",
    "average_recall = np.mean(recall_list)\n",
    "average_f1 = np.mean(f1_list)\n",
    "\n",
    "print(f\"Precision: {average_precision:.4f}\")\n",
    "print(f\"Recall: {average_recall:.4f}\")\n",
    "print(f\"F1-score: {average_f1:.4f}\")"
   ]
  },
  {
   "cell_type": "code",
   "execution_count": 17,
   "id": "46cc5b96",
   "metadata": {},
   "outputs": [
    {
     "name": "stdout",
     "output_type": "stream",
     "text": [
      "Precision: 0.0033\n",
      "Recall: 0.0008\n",
      "F1-score: 0.0011\n"
     ]
    }
   ],
   "source": [
    "import numpy as np\n",
    "\n",
    "# Create an item-user matrix for training\n",
    "train_item_user_matrix = train_data.pivot(index=\"movieId\", columns=\"userId\", values=\"rating\").fillna(0)\n",
    "\n",
    "# Calculate item similarity using cosine similarity\n",
    "item_similarity_matrix = cosine_similarity(train_item_user_matrix)\n",
    "item_similarity_df = pd.DataFrame(item_similarity_matrix, index=train_item_user_matrix.index, columns=train_item_user_matrix.index)\n",
    "\n",
    "# Predict ratings for a user\n",
    "def predict_ratings(user_id, train_item_user_matrix, item_similarity_df, top_n=10):\n",
    "    if user_id not in train_item_user_matrix.columns:\n",
    "        return []  # No recommendations for users not in the training set\n",
    "    \n",
    "    user_ratings = train_item_user_matrix[user_id]\n",
    "    \n",
    "    # Compute scores for items\n",
    "    scores = item_similarity_df.dot(user_ratings) / np.abs(item_similarity_df).sum(axis=1)\n",
    "    scores = pd.Series(scores, index=train_item_user_matrix.index)\n",
    "    \n",
    "    # Exclude items the user has already rated\n",
    "    rated_items = user_ratings[user_ratings > 0].index\n",
    "    scores = scores.drop(index=rated_items)\n",
    "    \n",
    "    # Recommend top-N items\n",
    "    recommended_items = scores.sort_values(ascending=False).head(top_n).index.tolist()\n",
    "    return recommended_items\n",
    "\n",
    "# Evaluate the recommendations\n",
    "precision_list = []\n",
    "recall_list = []\n",
    "f1_list = []\n",
    "\n",
    "for user_id in test_data[\"userId\"].unique():\n",
    "    # Ground truth: Movies the user interacted with in the test set\n",
    "    ground_truth = test_data[test_data[\"userId\"] == user_id][\"movieId\"].tolist()\n",
    "    \n",
    "    # Predicted: Top-N recommended movies\n",
    "    recommendations = predict_ratings(user_id, train_item_user_matrix, item_similarity_df, top_n=10)\n",
    "    \n",
    "    # Calculate precision, recall, and F1-score for this user\n",
    "    if len(ground_truth) > 0:  # Avoid division by zero\n",
    "        true_positives = len(set(recommendations) & set(ground_truth))\n",
    "        precision = true_positives / len(recommendations) if len(recommendations) > 0 else 0\n",
    "        recall = true_positives / len(ground_truth)\n",
    "        f1 = (2 * precision * recall / (precision + recall)) if (precision + recall) > 0 else 0\n",
    "\n",
    "        precision_list.append(precision)\n",
    "        recall_list.append(recall)\n",
    "        f1_list.append(f1)\n",
    "\n",
    "# Calculate average metrics across all users\n",
    "average_precision = np.mean(precision_list)\n",
    "average_recall = np.mean(recall_list)\n",
    "average_f1 = np.mean(f1_list)\n",
    "\n",
    "print(f\"Precision: {average_precision:.4f}\")\n",
    "print(f\"Recall: {average_recall:.4f}\")\n",
    "print(f\"F1-score: {average_f1:.4f}\")"
   ]
  }
 ],
 "metadata": {
  "kernelspec": {
   "display_name": ".venv",
   "language": "python",
   "name": "python3"
  },
  "language_info": {
   "codemirror_mode": {
    "name": "ipython",
    "version": 3
   },
   "file_extension": ".py",
   "mimetype": "text/x-python",
   "name": "python",
   "nbconvert_exporter": "python",
   "pygments_lexer": "ipython3",
   "version": "3.12.0"
  }
 },
 "nbformat": 4,
 "nbformat_minor": 5
}
